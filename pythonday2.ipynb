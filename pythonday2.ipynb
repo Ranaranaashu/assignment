{
  "nbformat": 4,
  "nbformat_minor": 0,
  "metadata": {
    "colab": {
      "provenance": [],
      "authorship_tag": "ABX9TyPpMCtH691me1cF8UGTsELq",
      "include_colab_link": true
    },
    "kernelspec": {
      "name": "python3",
      "display_name": "Python 3"
    },
    "language_info": {
      "name": "python"
    }
  },
  "cells": [
    {
      "cell_type": "markdown",
      "metadata": {
        "id": "view-in-github",
        "colab_type": "text"
      },
      "source": [
        "<a href=\"https://colab.research.google.com/github/Ranaranaashu/assignment/blob/master/pythonday2.ipynb\" target=\"_parent\"><img src=\"https://colab.research.google.com/assets/colab-badge.svg\" alt=\"Open In Colab\"/></a>"
      ]
    },
    {
      "cell_type": "code",
      "execution_count": 7,
      "metadata": {
        "colab": {
          "base_uri": "https://localhost:8080/"
        },
        "id": "gvq3pYi2ftMx",
        "outputId": "eb8e6709-d7d9-49af-8d19-2900cb133aab"
      },
      "outputs": [
        {
          "output_type": "stream",
          "name": "stdout",
          "text": [
            "welcome -start with 'w'\n",
            "i have $3 -does NOT start with 'w'\n",
            "with a function it is efficient to repeat code -start with 'w'\n"
          ]
        }
      ],
      "source": [
        "test_string_1=\"welcome\"\n",
        "test_string_2=\"i have $3\"\n",
        "test_string_3= \"with a function it is efficient to repeat code\"\n",
        "\n",
        "def w_start_test(test_string):\n",
        "    if test_string.startswith('w'):\n",
        "        print(test_string,\"-start with 'w'\")\n",
        "    else:\n",
        "        print(test_string,\"-does NOT start with 'w'\")  \n",
        "\n",
        "w_start_test(test_string_1)\n",
        "w_start_test(test_string_2)\n",
        "w_start_test(test_string_3)\n"
      ]
    },
    {
      "cell_type": "code",
      "source": [
        "x = 18\n",
        "if x + 18 == x + x:\n",
        "    print(\"Pass: x + 18 is equal to \", x + x)\n",
        "    \n",
        "else:\n",
        "    print(\"Fail: x + 18 is not equal to \", x + x)"
      ],
      "metadata": {
        "colab": {
          "base_uri": "https://localhost:8080/"
        },
        "id": "A5yibmYIrcHn",
        "outputId": "5eda86e6-30f4-4050-b3c8-030cd148c542"
      },
      "execution_count": 8,
      "outputs": [
        {
          "output_type": "stream",
          "name": "stdout",
          "text": [
            "Pass: x + 18 is equal to  36\n"
          ]
        }
      ]
    },
    {
      "cell_type": "code",
      "source": [
        "def add(num1,num2):\n",
        "  sum = num1+num2\n",
        "  return sum\n",
        "\n",
        "def subtract(num1,num2):\n",
        "  difference = num1-num2\n",
        "  return difference\n",
        "\n",
        "def multiply(num1,num2):\n",
        "  product = num1*num2\n",
        "  return product \n",
        "\n",
        "def divide(num1,num2):\n",
        "  if num1 != 0:\n",
        "    quotient = num2/num1\n",
        "    return quotient\n",
        "  else:\n",
        "     return 0 \n",
        "\n",
        "num1 = int(input(\"please enter a number:\"))\n",
        "num2 = int(input(\"please enter a second number:\"))\n",
        "operator = input(\"what is your operation? enter + - * or / only.\" )\n",
        "\n",
        "if operator == \"+\":\n",
        "   answer = add(num1,num2)\n",
        "\n",
        "elif operator == \"-\":\n",
        "   answer = subtract(num1,num2)   \n",
        "\n",
        "elif operator == \"*\":\n",
        "   answer = multiply(num1,num2)   \n",
        "\n",
        "elif operator == \"/\":\n",
        "   answer = divide(num1,num2)   \n",
        "\n",
        "else:\n",
        "  print(\"This is not a valid operation!\")\n",
        "print(str(answer))"
      ],
      "metadata": {
        "colab": {
          "base_uri": "https://localhost:8080/"
        },
        "id": "SOfLwkVNyF3r",
        "outputId": "bb4f9497-adda-4ea6-9cc8-f692390b2836"
      },
      "execution_count": 12,
      "outputs": [
        {
          "output_type": "stream",
          "name": "stdout",
          "text": [
            "please enter a number:78\n",
            "please enter a second number:89\n",
            "what is your operation? enter + - * or / only./\n",
            "1.141025641025641\n"
          ]
        }
      ]
    },
    {
      "cell_type": "code",
      "source": [
        "zone = input(\"enter your zone as zone1,zone2,zone3  \")\n",
        "if zone == \"zone1\":\n",
        "   print(\"welcome to indigo please proceed\")\n",
        "elif zone==\"zone1\":\n",
        "   print(\"welcome to indigo please wait for some time\")\n",
        "else:\n",
        "    print(\"indigo flight missed by you\") "
      ],
      "metadata": {
        "colab": {
          "base_uri": "https://localhost:8080/"
        },
        "id": "NkIYuvhE5SKT",
        "outputId": "79e24ec9-837e-4003-ec24-d16b311ebb25"
      },
      "execution_count": 16,
      "outputs": [
        {
          "output_type": "stream",
          "name": "stdout",
          "text": [
            "enter your zone as zone1,zone2,zone3  zone3\n",
            "indigo flight missed by you\n"
          ]
        }
      ]
    },
    {
      "cell_type": "code",
      "source": [
        "# --Completed--\n",
        "birds = \"eagle dove turkey\"\n",
        "\n",
        "bird_guess = input(\"Guess a bird name: \")\n",
        "\n",
        "if (bird_guess.lower() in birds) == False:\n",
        "    print(\"No, not thinking of\",bird_guess)\n",
        "    \n",
        "    bird_guess = input(\"Guess another bird name: \")\n",
        "    if (bird_guess.lower() in birds) == False:\n",
        "        print(\"No, not thinking of\",bird_guess)\n",
        "        print()\n",
        "        bird_guess = input(\"Guess another bird name: \")\n",
        "        if (bird_guess.lower() in birds) == False:\n",
        "            print(\"No, not thinking of\",bird_guess)\n",
        "            print(\"Game Over\")\n",
        "        else:\n",
        "            print(\"Finally, third guess\",bird_guess,\"is correct\")\n",
        "            \n",
        "    else:\n",
        "        print(\"OK, second guess\",bird_guess,\"is correct\")\n",
        "\n",
        "else:\n",
        "    print(\"Wow, first guess\",bird_guess,\"is correct\")"
      ],
      "metadata": {
        "colab": {
          "base_uri": "https://localhost:8080/"
        },
        "id": "8Z2o5TGA7N-Z",
        "outputId": "2e785c5c-c789-4e68-af1f-067377acbca6"
      },
      "execution_count": 18,
      "outputs": [
        {
          "output_type": "stream",
          "name": "stdout",
          "text": [
            "Guess a bird name: DOVE\n",
            "Wow, first guess DOVE is correct\n"
          ]
        }
      ]
    }
  ]
}