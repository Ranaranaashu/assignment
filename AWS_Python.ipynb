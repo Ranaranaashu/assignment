{
  "nbformat": 4,
  "nbformat_minor": 0,
  "metadata": {
    "colab": {
      "provenance": [],
      "authorship_tag": "ABX9TyPCElzWGOdkn+kBZ71jfsS6",
      "include_colab_link": true
    },
    "kernelspec": {
      "name": "python3",
      "display_name": "Python 3"
    },
    "language_info": {
      "name": "python"
    }
  },
  "cells": [
    {
      "cell_type": "markdown",
      "metadata": {
        "id": "view-in-github",
        "colab_type": "text"
      },
      "source": [
        "<a href=\"https://colab.research.google.com/github/Ranaranaashu/assignment/blob/master/AWS_Python.ipynb\" target=\"_parent\"><img src=\"https://colab.research.google.com/assets/colab-badge.svg\" alt=\"Open In Colab\"/></a>"
      ]
    },
    {
      "cell_type": "code",
      "execution_count": 4,
      "metadata": {
        "colab": {
          "base_uri": "https://localhost:8080/"
        },
        "id": "m07RygFSQpZe",
        "outputId": "5906c5e9-f477-4bfe-a3d7-5938bf7ca383"
      },
      "outputs": [
        {
          "output_type": "stream",
          "name": "stdout",
          "text": [
            "Python 3.8.10\n",
            "hello world\n",
            "10\n"
          ]
        }
      ],
      "source": [
        "!python --version\n",
        "print(\"hello world\")\n",
        "a =4+6\n",
        "print(a)\n"
      ]
    },
    {
      "cell_type": "code",
      "source": [
        "print(\"     \")"
      ],
      "metadata": {
        "colab": {
          "base_uri": "https://localhost:8080/"
        },
        "id": "IZVxtVEERzsX",
        "outputId": "782e510b-f5f3-48c3-e56f-eb47db4adf86"
      },
      "execution_count": 5,
      "outputs": [
        {
          "output_type": "stream",
          "name": "stdout",
          "text": [
            "     \n"
          ]
        }
      ]
    },
    {
      "cell_type": "code",
      "source": [
        "x =5 \n",
        "y =5\n",
        "z=x+y\n",
        "print(z)\n",
        "\n",
        "\n",
        "\n",
        "a =1.5\n",
        "b=20\n",
        "c=a+b\n",
        "print(c)"
      ],
      "metadata": {
        "colab": {
          "base_uri": "https://localhost:8080/"
        },
        "id": "8HfmBknkRrYA",
        "outputId": "4c740387-e670-4c3e-983c-a833fbba6c30"
      },
      "execution_count": 8,
      "outputs": [
        {
          "output_type": "stream",
          "name": "stdout",
          "text": [
            "10\n",
            "21.5\n"
          ]
        }
      ]
    },
    {
      "cell_type": "code",
      "source": [
        "num1=1\n",
        "num2=3\n",
        "num3=num1+num2\n",
        "print(num3)"
      ],
      "metadata": {
        "colab": {
          "base_uri": "https://localhost:8080/"
        },
        "id": "TTk3C7BIUR1s",
        "outputId": "2036e8b5-3961-4406-fe83-486c303a7293"
      },
      "execution_count": 10,
      "outputs": [
        {
          "output_type": "stream",
          "name": "stdout",
          "text": [
            "4\n"
          ]
        }
      ]
    },
    {
      "cell_type": "code",
      "source": [
        "student_name=\"ashutosh\"\n",
        "print(student_name)\n"
      ],
      "metadata": {
        "colab": {
          "base_uri": "https://localhost:8080/"
        },
        "id": "kG0TMFGQUtpo",
        "outputId": "d5059282-661b-40a2-d62b-839a8d194740"
      },
      "execution_count": 11,
      "outputs": [
        {
          "output_type": "stream",
          "name": "stdout",
          "text": [
            "ashutosh\n"
          ]
        }
      ]
    },
    {
      "cell_type": "code",
      "source": [
        "#repetation of variable\n",
        "spd =\"marvel thor\"\n",
        "print(spd)\n",
        "\n",
        "spd=123\n",
        "print(spd)\n",
        "\n",
        "spd=125.68\n",
        "print(spd)"
      ],
      "metadata": {
        "colab": {
          "base_uri": "https://localhost:8080/"
        },
        "id": "gMNGlSixVLKQ",
        "outputId": "97e4ce04-ed3e-483a-dac4-82eb74344c53"
      },
      "execution_count": 12,
      "outputs": [
        {
          "output_type": "stream",
          "name": "stdout",
          "text": [
            "marvel thor\n",
            "123\n",
            "125.68\n"
          ]
        }
      ]
    },
    {
      "cell_type": "code",
      "source": [
        "print(type(\"hello world\"))\n",
        "print(type(50754))\n",
        "print(type(65.83736))\n",
        "print(type(False))"
      ],
      "metadata": {
        "colab": {
          "base_uri": "https://localhost:8080/"
        },
        "id": "n98zQixdW87I",
        "outputId": "9e953250-7777-48bf-f279-2f3b578357b4"
      },
      "execution_count": 16,
      "outputs": [
        {
          "output_type": "stream",
          "name": "stdout",
          "text": [
            "<class 'str'>\n",
            "<class 'int'>\n",
            "<class 'float'>\n",
            "<class 'bool'>\n"
          ]
        }
      ]
    },
    {
      "cell_type": "code",
      "source": [
        "#string addition\n",
        "company =\"hoping\"\n",
        "name=\"minds\"\n",
        "print(company,name)"
      ],
      "metadata": {
        "colab": {
          "base_uri": "https://localhost:8080/"
        },
        "id": "j9JpAnFdYODT",
        "outputId": "947d81d0-2a06-4680-c302-38b21ac4ca39"
      },
      "execution_count": 18,
      "outputs": [
        {
          "output_type": "stream",
          "name": "stdout",
          "text": [
            "hoping minds\n"
          ]
        }
      ]
    },
    {
      "cell_type": "code",
      "source": [
        "\"my name is \"+ \"ashutosh\"\n",
        "shoe_color=\"brown\"\n",
        "\"my shoe_color is\"+ shoe_color"
      ],
      "metadata": {
        "colab": {
          "base_uri": "https://localhost:8080/",
          "height": 35
        },
        "id": "WQOS3Mh0Yvjb",
        "outputId": "e80a34f1-221a-4a4e-9638-11262affd282"
      },
      "execution_count": 19,
      "outputs": [
        {
          "output_type": "execute_result",
          "data": {
            "text/plain": [
              "'my shoe_color isbrown'"
            ],
            "application/vnd.google.colaboratory.intrinsic+json": {
              "type": "string"
            }
          },
          "metadata": {},
          "execution_count": 19
        }
      ]
    },
    {
      "cell_type": "code",
      "source": [],
      "metadata": {
        "id": "ObfmNYyFYu1X"
      },
      "execution_count": null,
      "outputs": []
    }
  ]
}